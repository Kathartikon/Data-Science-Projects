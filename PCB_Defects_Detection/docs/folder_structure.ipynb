{
 "cells": [
  {
   "cell_type": "code",
   "execution_count": 2,
   "metadata": {},
   "outputs": [],
   "source": [
    "import os"
   ]
  },
  {
   "cell_type": "code",
   "execution_count": 3,
   "metadata": {},
   "outputs": [],
   "source": [
    "def generate_folder_structure(root_dir, depth=0):\n",
    "    structure = \"\"\n",
    "    for item in os.listdir(root_dir):\n",
    "        path = os.path.join(root_dir, item)\n",
    "        if os.path.isdir(path):\n",
    "            structure += \"  \" * depth + f\"├── {item}\\n\"\n",
    "            structure += generate_folder_structure(path, depth + 1)\n",
    "        else:\n",
    "            structure += \"  \" * depth + f\"├── {item}\\n\"\n",
    "    return structure"
   ]
  },
  {
   "cell_type": "code",
   "execution_count": 4,
   "metadata": {},
   "outputs": [],
   "source": [
    "def save_structure_to_txt(structure, output_file):\n",
    "    with open(output_file, \"w\") as f:\n",
    "        f.write(structure)"
   ]
  },
  {
   "cell_type": "code",
   "execution_count": 6,
   "metadata": {},
   "outputs": [],
   "source": [
    "parent_directory = os.path.dirname(os.getcwd())"
   ]
  },
  {
   "cell_type": "code",
   "execution_count": 16,
   "metadata": {},
   "outputs": [],
   "source": [
    "structure = generate_folder_structure(parent_directory)\n",
    "save_structure_to_txt(structure, output_file)"
   ]
  }
 ],
 "metadata": {
  "kernelspec": {
   "display_name": "pcb_proj",
   "language": "python",
   "name": "python3"
  },
  "language_info": {
   "codemirror_mode": {
    "name": "ipython",
    "version": 3
   },
   "file_extension": ".py",
   "mimetype": "text/x-python",
   "name": "python",
   "nbconvert_exporter": "python",
   "pygments_lexer": "ipython3",
   "version": "3.12.3"
  }
 },
 "nbformat": 4,
 "nbformat_minor": 2
}
